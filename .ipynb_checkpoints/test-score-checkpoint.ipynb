{
 "cells": [
  {
   "cell_type": "code",
   "execution_count": 1,
   "metadata": {},
   "outputs": [],
   "source": [
    "import matplotlib.pyplot as plt\n",
    "import numpy as np\n",
    "import pandas as pd\n",
    "from sklearn.feature_extraction.text import CountVectorizer\n",
    "from sklearn.linear_model import LogisticRegression\n",
    "from sklearn.model_selection import (\n",
    "    GridSearchCV,\n",
    "    cross_val_score,\n",
    "    cross_validate,\n",
    "    train_test_split,\n",
    ")\n",
    "from sklearn.pipeline import Pipeline, make_pipeline"
   ]
  },
  {
   "cell_type": "code",
   "execution_count": 2,
   "metadata": {},
   "outputs": [],
   "source": [
    "# Load the data\n",
    "tweets_df = pd.read_csv(\"realdonaldtrump.csv\", index_col=0)\n",
    "y = tweets_df[\"retweets\"] > 10_000\n",
    "X = tweets_df[\"content\"]\n",
    "\n",
    "results = {'index':[], 'CV Score':[], 'Test Score':[]}"
   ]
  },
  {
   "cell_type": "code",
   "execution_count": 3,
   "metadata": {},
   "outputs": [
    {
     "name": "stdout",
     "output_type": "stream",
     "text": [
      "The test score is higher than the validation score for `random_state = 0`? True\n",
      "The test score is higher than the validation score for `random_state = 1`? True\n",
      "The test score is higher than the validation score for `random_state = 2`? True\n"
     ]
    }
   ],
   "source": [
    "for i in range(0, 501):\n",
    "    # Split with a different random_state each time.\n",
    "    X_train, X_test, y_train, y_test = train_test_split(X, y, random_state = i)\n",
    "\n",
    "    # The optimized hyper-parameters are `max_features = 100000` and `C = 1.0`\n",
    "    pipe = make_pipeline(\n",
    "        CountVectorizer(stop_words = 'english', max_features = 100000),\n",
    "        LogisticRegression(max_iter = 1000, C = 1.0),\n",
    "    )\n",
    "    pipe.fit(X_train, y_train)\n",
    "    \n",
    "    cv_results = cross_validate(pipe, X_train, y_train, return_train_score = True, n_jobs = -1)\n",
    "    cv_score = cv_results[\"test_score\"].mean()\n",
    "    test_score = pipe.score(X_test, y_test)\n",
    "    \n",
    "    results['index'].append(i)\n",
    "    results['CV Score'].append(cv_score)\n",
    "    results['Test Score'].append(test_score)\n",
    "    \n",
    "    print(f\"The test score is higher than the validation score for `random_state = {i}`? {cv_score < test_score}\")"
   ]
  },
  {
   "cell_type": "code",
   "execution_count": 4,
   "metadata": {},
   "outputs": [
    {
     "data": {
      "text/html": [
       "<div>\n",
       "<style scoped>\n",
       "    .dataframe tbody tr th:only-of-type {\n",
       "        vertical-align: middle;\n",
       "    }\n",
       "\n",
       "    .dataframe tbody tr th {\n",
       "        vertical-align: top;\n",
       "    }\n",
       "\n",
       "    .dataframe thead th {\n",
       "        text-align: right;\n",
       "    }\n",
       "</style>\n",
       "<table border=\"1\" class=\"dataframe\">\n",
       "  <thead>\n",
       "    <tr style=\"text-align: right;\">\n",
       "      <th></th>\n",
       "      <th>index</th>\n",
       "      <th>CV Score</th>\n",
       "      <th>Test Score</th>\n",
       "    </tr>\n",
       "  </thead>\n",
       "  <tbody>\n",
       "    <tr>\n",
       "      <th>count</th>\n",
       "      <td>3.0</td>\n",
       "      <td>3.000000</td>\n",
       "      <td>3.000000</td>\n",
       "    </tr>\n",
       "    <tr>\n",
       "      <th>mean</th>\n",
       "      <td>1.0</td>\n",
       "      <td>0.897808</td>\n",
       "      <td>0.904903</td>\n",
       "    </tr>\n",
       "    <tr>\n",
       "      <th>std</th>\n",
       "      <td>1.0</td>\n",
       "      <td>0.001101</td>\n",
       "      <td>0.002617</td>\n",
       "    </tr>\n",
       "    <tr>\n",
       "      <th>min</th>\n",
       "      <td>0.0</td>\n",
       "      <td>0.896537</td>\n",
       "      <td>0.903211</td>\n",
       "    </tr>\n",
       "    <tr>\n",
       "      <th>25%</th>\n",
       "      <td>0.5</td>\n",
       "      <td>0.897475</td>\n",
       "      <td>0.903395</td>\n",
       "    </tr>\n",
       "    <tr>\n",
       "      <th>50%</th>\n",
       "      <td>1.0</td>\n",
       "      <td>0.898413</td>\n",
       "      <td>0.903580</td>\n",
       "    </tr>\n",
       "    <tr>\n",
       "      <th>75%</th>\n",
       "      <td>1.5</td>\n",
       "      <td>0.898444</td>\n",
       "      <td>0.905748</td>\n",
       "    </tr>\n",
       "    <tr>\n",
       "      <th>max</th>\n",
       "      <td>2.0</td>\n",
       "      <td>0.898474</td>\n",
       "      <td>0.907917</td>\n",
       "    </tr>\n",
       "  </tbody>\n",
       "</table>\n",
       "</div>"
      ],
      "text/plain": [
       "       index  CV Score  Test Score\n",
       "count    3.0  3.000000    3.000000\n",
       "mean     1.0  0.897808    0.904903\n",
       "std      1.0  0.001101    0.002617\n",
       "min      0.0  0.896537    0.903211\n",
       "25%      0.5  0.897475    0.903395\n",
       "50%      1.0  0.898413    0.903580\n",
       "75%      1.5  0.898444    0.905748\n",
       "max      2.0  0.898474    0.907917"
      ]
     },
     "execution_count": 4,
     "metadata": {},
     "output_type": "execute_result"
    }
   ],
   "source": [
    "df = pd.DataFrame(results)\n",
    "df.describe()"
   ]
  },
  {
   "cell_type": "code",
   "execution_count": 5,
   "metadata": {},
   "outputs": [
    {
     "data": {
      "text/plain": [
       "<function matplotlib.pyplot.show(close=None, block=None)>"
      ]
     },
     "execution_count": 5,
     "metadata": {},
     "output_type": "execute_result"
    },
    {
     "data": {
      "image/png": "[encoded data removed]",
      "text/plain": [
       "<Figure size 432x288 with 1 Axes>"
      ]
     },
     "metadata": {
      "needs_background": "light"
     },
     "output_type": "display_data"
    }
   ],
   "source": [
    "plt.hist(results['Test Score'], label = 'Test Score', alpha = 0.75, color = 'r', density = True, bins = 20)\n",
    "plt.hist(results['CV Score'], label = 'CV Score', alpha = 0.75, color = 'c',  density = True, bins = 20)\n",
    "plt.legend()\n",
    "plt.title('Accuracy versus `random_state`')\n",
    "plt.xlabel('Score')\n",
    "plt.ylabel('Density')\n",
    "plt.show"
   ]
  },
  {
   "cell_type": "code",
   "execution_count": 6,
   "metadata": {},
   "outputs": [
    {
     "name": "stdout",
     "output_type": "stream",
     "text": [
      "100.0% of the cases had a higher test score the validation score.\n"
     ]
    }
   ],
   "source": [
    "greater_score = np.sum(np.greater(results['Test Score'], results['CV Score']))\n",
    "length = len(results['index'])\n",
    "print(f\"{greater_score * 100 / length:.4}% of the cases had a higher test score the validation score.\")"
   ]
  }
 ],
 "metadata": {
  "celltoolbar": "Create Assignment",
  "kernelspec": {
   "display_name": "Python [conda env:cpsc330]",
   "language": "python",
   "name": "conda-env-cpsc330-py"
  },
  "language_info": {
   "codemirror_mode": {
    "name": "ipython",
    "version": 3
   },
   "file_extension": ".py",
   "mimetype": "text/x-python",
   "name": "python",
   "nbconvert_exporter": "python",
   "pygments_lexer": "ipython3",
   "version": "3.9.7"
  }
 },
 "nbformat": 4,
 "nbformat_minor": 4
}
